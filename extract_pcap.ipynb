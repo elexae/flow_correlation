{
 "cells": [
  {
   "cell_type": "code",
   "execution_count": null,
   "metadata": {},
   "outputs": [],
   "source": [
    "import dpkt\n"
   ]
  },
  {
   "cell_type": "code",
   "execution_count": null,
   "metadata": {},
   "outputs": [],
   "source": [
    "# 粗粒度"
   ]
  },
  {
   "cell_type": "code",
   "execution_count": null,
   "metadata": {},
   "outputs": [],
   "source": [
    "# 细粒度 (IPD, Packet_Size)\n",
    "def extract_pcap_s(filename, packet_num):\n",
    "    \n",
    "    with open(filename, 'rb') as pcap_file:\n",
    "        pcap_file = dpkt.pcap.Reader(pcap_file)\n",
    "        packet_list = []\n",
    "        for timestamp, buffer in pcap_file:\n",
    "            packet_list.append({'timestamp' : timestamp, 'size' : len(buffer)})\n",
    "    \n",
    "    flow_list = []\n",
    "    flow = []\n",
    "    for i in range(len(packet_list)):\n",
    "        if (i + 1) % packet_num == 0:\n",
    "            flow.append(packet_list[i])\n",
    "            flow_list.append(flow)\n",
    "            flow = []\n",
    "    if len(flow):\n",
    "        flow_list.append(flow)\n",
    "    \n",
    "    feature_list = []\n",
    "    for flow in flow_list:\n",
    "        time_list = []\n",
    "        size_list = []\n",
    "        for i in range(len(flow)):\n",
    "            time_list.append(flow[i]['timestamp'])\n",
    "            size_list.append(flow[i]['size'])\n",
    "        feature_list.append(time_list + size_list)\n",
    "\n",
    "    return feature_list\n"
   ]
  }
 ],
 "metadata": {
  "interpreter": {
   "hash": "f63b018dc6c91e56e61b12ea9cdc324bce96b7f23f6dcbfb0422d1a85ec7ae52"
  },
  "kernelspec": {
   "display_name": "Python 3.6.13 ('flow_correlation')",
   "language": "python",
   "name": "python3"
  },
  "language_info": {
   "name": "python",
   "version": "3.6.13"
  },
  "orig_nbformat": 4
 },
 "nbformat": 4,
 "nbformat_minor": 2
}
