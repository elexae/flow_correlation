{
 "cells": [
  {
   "cell_type": "code",
   "execution_count": null,
   "metadata": {},
   "outputs": [],
   "source": [
    "import dpkt\n",
    "import numpy as np"
   ]
  },
  {
   "cell_type": "code",
   "execution_count": null,
   "metadata": {},
   "outputs": [],
   "source": [
    "# 粗粒度"
   ]
  },
  {
   "cell_type": "code",
   "execution_count": null,
   "metadata": {},
   "outputs": [],
   "source": [
    "# 细粒度 (IPD, Packet_Size)\n",
    "def extract_pcap_s(filename, interval, src, dst):\n",
    "    \n",
    "    with open(filename, 'rb') as pcap_file:\n",
    "        pcap_file = dpkt.pcap.Reader(pcap_file)\n",
    "        packet_list = []\n",
    "        for timestamp, buffer in pcap_file:\n",
    "            eth = dpkt.ethernet.Ethernet(buffer)\n",
    "            if not isinstance(eth.data, dpkt.ip.IP):\n",
    "                print ('Non IP Packet type not supported %s\\n' % eth.data.__class__.__name__)\n",
    "                continue\n",
    "            ip = eth.data\n",
    "            if ip.src == src and ip.dst == dst:\n",
    "                packet_list.append({'timestamp' : timestamp, 'size' : len(buffer)})\n",
    "            elif ip.src == dst and ip.dst == src:\n",
    "                packet_list.append({'timestamp' : timestamp, 'size' : -1*len(buffer)})\n",
    "    \n",
    "    flow = []\n",
    "    big_pkt = []\n",
    "    pre_h_time = 0.0\n",
    "    for i in range(len(packet_list)):\n",
    "        time_size = []\n",
    "        time = float(packet_list[i]['timestamp'])\n",
    "        size = int(packet_list[i]['size'])\n",
    "        if size > 0:\n",
    "            ipd = time - pre_h_time\n",
    "        else:\n",
    "            ipd = -(time - pre_h_time)\n",
    "        if float(time) > interval[1]:\n",
    "            break\n",
    "        if float(time) < interval[0]:\n",
    "            continue\n",
    "        if abs(size) > 512:# ignore ack packets\n",
    "            if (pre_h_time != 0) and (ipd == 0):\n",
    "                big_pkt.append(size)\n",
    "                continue\n",
    "            if len(big_pkt)!=0:\n",
    "                last_pkt=flow.pop()\n",
    "                flow.append({\"ipd\": last_pkt[\"ipd\"], \"size\": sum(big_pkt)+last_pkt['size']})\n",
    "                big_pkt = []\n",
    "                num_here_big_pkt += 1\n",
    "            time_size.append (ipd)\n",
    "            time_size.append(size)\n",
    "            time_size = np.array (time_size)\n",
    "            flow.append ({\"ipd\": time_size[0], \"size\": time_size[1]})\n",
    "            pre_h_time = time\n",
    "\n",
    "    ipd_list = []\n",
    "    size_list = []\n",
    "    for packet in flow:\n",
    "        ipd_list.append(packet['ipd'])\n",
    "        size_list.append(packet['size'])\n",
    "    \n",
    "    return [0.0] + ipd_list[1:] + size_list\n"
   ]
  }
 ],
 "metadata": {
  "interpreter": {
   "hash": "f63b018dc6c91e56e61b12ea9cdc324bce96b7f23f6dcbfb0422d1a85ec7ae52"
  },
  "kernelspec": {
   "display_name": "Python 3.6.13 ('flow_correlation')",
   "language": "python",
   "name": "python3"
  },
  "language_info": {
   "name": "python",
   "version": "3.6.13"
  },
  "orig_nbformat": 4
 },
 "nbformat": 4,
 "nbformat_minor": 2
}
